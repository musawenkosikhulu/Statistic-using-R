{
 "cells": [
  {
   "cell_type": "markdown",
   "id": "sufficient-norfolk",
   "metadata": {},
   "source": [
    "## ***Musawenkosi Khulu***"
   ]
  },
  {
   "cell_type": "markdown",
   "id": "committed-product",
   "metadata": {},
   "source": [
    "## ***Assignment 1 : STATISTICS***"
   ]
  },
  {
   "cell_type": "markdown",
   "id": "official-drama",
   "metadata": {},
   "source": [
    "### ***Question 1***"
   ]
  },
  {
   "cell_type": "markdown",
   "id": "elegant-culture",
   "metadata": {},
   "source": [
    "Let $P(A)$ denotes that room A is occupied 50% and room B is occupied $P(B)$ which 60%. When both room are occupied $P(A \\cap B)$ is 0.3. \\\n",
    "$\\implies P(A) = 0.5 ~ \\text{and} ~ P(B) = 0.6$ and $P(A \\cap B)=0.3$ "
   ]
  },
  {
   "cell_type": "markdown",
   "id": "norwegian-cleaner",
   "metadata": {},
   "source": [
    "A.1. When at least one room is occupied we have $P(A \\cup B) = P(A) + P(B) - P(A \\cap B)$. \\\n",
    "$P(A \\cup B) = 0.5+0.6-0.3$ \\\n",
    "$P(A \\cup B) = 0.8$ \\\n",
    "Which mean the if one room is occupied there is a probability of 80% that the event would happen. "
   ]
  },
  {
   "cell_type": "markdown",
   "id": "major-phase",
   "metadata": {},
   "source": [
    "2. When none of the rooms are occupied it can be denoted as $P(\\overline{A \\cup B}) = 1 -P(A \\cup B)$ \\\n",
    "$P(\\overline{A \\cup B}) = 1-0.8$ \\\n",
    "$P(\\overline{A \\cup B}) =0.2$ \\\n",
    "Which means the probability for the rooms to be not occupied is 2%."
   ]
  },
  {
   "cell_type": "markdown",
   "id": "hired-avatar",
   "metadata": {},
   "source": [
    "3. The room B not occupied is denoted as $P(\\overline{B})$. \\\n",
    "$P(\\overline{B}) = 1 - P(B)$ \\\n",
    "$P(\\overline{B}) = 1 - 0.6$ \\\n",
    "$P(\\overline{B}) = 0.4$ \\\n",
    "Which mean that the probability of room B not occupied is 40%"
   ]
  },
  {
   "cell_type": "markdown",
   "id": "anticipated-hormone",
   "metadata": {},
   "source": [
    "4.if room A is occupied but room B is not occupied is denoted by $P(A \\mid \\overline{B}) = \\frac{P(A \\cap \\overline{B})}{P(\\overline{B})}$ \\\n",
    "$P(A \\cap \\overline{B}) = 0.2$ \\\n",
    "$P(\\overline{B}) = 0.4$ \\\n",
    "$P(A \\mid \\overline{B}) = \\frac{0.2}{0.4}$ \\\n",
    "$P(A \\mid \\overline{B}) = 0.5$ \\\n",
    "Which mean that if room A is occupied but room B is not occupied the probability of that event happening is 50%"
   ]
  },
  {
   "cell_type": "markdown",
   "id": "powered-winner",
   "metadata": {},
   "source": [
    "5. If we take any room to be occupied for instance room A we can use total probability $P(A) = P(A \\cap B) + P(A \\cap \\overline{B})$. \\\n",
    "$P(A) = 0.3+0.2$ \\\n",
    "$P(A) = 0.5$ \\\n",
    "Which means that there is 50% probability that any room is occupied."
   ]
  },
  {
   "cell_type": "markdown",
   "id": "alien-drawing",
   "metadata": {},
   "source": [
    "B. I would advise the director that if one room is not occuppied the patients can share the rooms, for instance if room A is not which is 50% that would happen. This means the director can shift the occupance in either room if the other is not occuppied."
   ]
  },
  {
   "cell_type": "markdown",
   "id": "reverse-denial",
   "metadata": {},
   "source": [
    "### ***Question 2***"
   ]
  },
  {
   "cell_type": "markdown",
   "id": "baking-inclusion",
   "metadata": {},
   "source": [
    "1. From the given table of random numbers we select the winning numbers by skipping two numbers and taking two digits. \\\n",
    "$\\implies$ the 5 winning numbers are 48, 23, 24, 04, 37"
   ]
  },
  {
   "cell_type": "markdown",
   "id": "leading-brick",
   "metadata": {},
   "source": [
    "3.Systematic sampling for the given 10 000 workers will go as the steps specified below: \n",
    "\n",
    "Step 1: Define your population which is 10 000. \n",
    "\n",
    "Step 2: Decide on your sample size and sampling interval. based on the 10 000 health workers the ideal sample size is 50 from the data we are given. The interval is 10000/50 = 200 meaning we will choose the 200th worker in the 10000 health workers. \n",
    "\n",
    "Step 3: Select the sample for {1-200},{201-400},... and collect the 200th I will choose every 200th member of the 10000 health workers. \n",
    "\n",
    "Therefore the first 4 health workers are 200, 400, 600, 800."
   ]
  },
  {
   "cell_type": "markdown",
   "id": "educational-opera",
   "metadata": {},
   "source": [
    "4. Simple rabdom \\\n",
    "   Advantages: It is easy to generalize the results from the sample to the entire population.\n",
    "<a href=\"https://www.cloudresearch.com/resources/guides/sampling/pros-cons-of-different-sampling-methods/\">reference</a> \\\n",
    "   Disadvantages: The data collection process is expensive. \n",
    "   \n",
    "   Stratified Sampling \\\n",
    "   Advantages : Giving the ability to generalize from the sample to the whole population. <a href=\"https://www.cloudresearch.com/resources/guides/sampling/pros-cons-of-different-sampling-methods/\">reference</a>\\\n",
    "   Disadvantages : The multistage sampling can use a lot of resources. \n",
    "   \n",
    "   Cluster Sampling \\\n",
    "   Advantages : It is faster compared to other sampling methods and more effecient. <a href=\"https://www.cloudresearch.com/resources/guides/sampling/pros-cons-of-different-sampling-methods/\">reference</a>\\\n",
    "   Disadvantages : Grouping the population is not always possible. \n",
    "   \n",
    "   Qouta Sampling \\\n",
    "   Advantages : This sampling method ensures that the important groups are covered in the process.<a href=\"https://www.cloudresearch.com/resources/guides/sampling/pros-cons-of-different-sampling-methods/\">reference</a> \\\n",
    "   Disadvantages: The sampling method can be bias.\n",
    "   \n",
    "   Snowball sampling \\\n",
    "   Advantage : It can reach small marginalized groups. <a href=\"https://www.cloudresearch.com/resources/guides/sampling/pros-cons-of-different-sampling-methods/\">reference</a>\\\n",
    "   Disadvantage : It is not random and it is slow."
   ]
  },
  {
   "cell_type": "code",
   "execution_count": 7,
   "id": "characteristic-vegetarian",
   "metadata": {},
   "outputs": [
    {
     "data": {
      "text/html": [
       "<table>\n",
       "<caption>A data.frame: 3 × 3</caption>\n",
       "<thead>\n",
       "\t<tr><th></th><th scope=col>province</th><th scope=col>hospital</th><th scope=col>Average_number_of_patients</th></tr>\n",
       "\t<tr><th></th><th scope=col>&lt;dbl&gt;</th><th scope=col>&lt;int&gt;</th><th scope=col>&lt;dbl&gt;</th></tr>\n",
       "</thead>\n",
       "<tbody>\n",
       "\t<tr><th scope=row>32</th><td>5</td><td>4</td><td>89</td></tr>\n",
       "\t<tr><th scope=row>11</th><td>2</td><td>4</td><td>78</td></tr>\n",
       "\t<tr><th scope=row>6</th><td>1</td><td>6</td><td>23</td></tr>\n",
       "</tbody>\n",
       "</table>\n"
      ],
      "text/latex": [
       "A data.frame: 3 × 3\n",
       "\\begin{tabular}{r|lll}\n",
       "  & province & hospital & Average\\_number\\_of\\_patients\\\\\n",
       "  & <dbl> & <int> & <dbl>\\\\\n",
       "\\hline\n",
       "\t32 & 5 & 4 & 89\\\\\n",
       "\t11 & 2 & 4 & 78\\\\\n",
       "\t6 & 1 & 6 & 23\\\\\n",
       "\\end{tabular}\n"
      ],
      "text/markdown": [
       "\n",
       "A data.frame: 3 × 3\n",
       "\n",
       "| <!--/--> | province &lt;dbl&gt; | hospital &lt;int&gt; | Average_number_of_patients &lt;dbl&gt; |\n",
       "|---|---|---|---|\n",
       "| 32 | 5 | 4 | 89 |\n",
       "| 11 | 2 | 4 | 78 |\n",
       "| 6 | 1 | 6 | 23 |\n",
       "\n"
      ],
      "text/plain": [
       "   province hospital Average_number_of_patients\n",
       "32 5        4        89                        \n",
       "11 2        4        78                        \n",
       "6  1        6        23                        "
      ]
     },
     "metadata": {},
     "output_type": "display_data"
    }
   ],
   "source": [
    "province <- rep(c(1,2,3,4,5,6), times = c(7,6,8,7,6,11))#This is a vector for province\n",
    "hospital <- rep(1:7,length.out=45)#This is a vector for hospitals \n",
    "Average_number_of_patients <- c(15,23,45,12,76,23,67,21,34,5,78,96,43,21,23,11,9,76,32,67,99,123,347,213,4,67,90,65,245,45,69,89,54,32,12,11,65,43,31,21,21,34,89,76,111)#This code creates a an average number of patient\n",
    "df <- data.frame(province,hospital,Average_number_of_patients ) #This creates a data frame to represent the table \n",
    "df[sample(nrow(df), 3), ] #This code select 3 simple random 3 provinces with their corresponding hospital"
   ]
  },
  {
   "cell_type": "markdown",
   "id": "seasonal-heather",
   "metadata": {},
   "source": [
    "The process of the code selects the random provinces in the table with corresponding hospital and average. "
   ]
  },
  {
   "cell_type": "markdown",
   "id": "advised-instrument",
   "metadata": {},
   "source": [
    "The sampling technique this example was simple random sample."
   ]
  },
  {
   "cell_type": "markdown",
   "id": "awful-photography",
   "metadata": {},
   "source": [
    "### ***Question 3***"
   ]
  },
  {
   "cell_type": "markdown",
   "id": "sunset-proposal",
   "metadata": {},
   "source": [
    "1. 30 random numbers in a normal distribution"
   ]
  },
  {
   "cell_type": "code",
   "execution_count": 8,
   "id": "pharmaceutical-repeat",
   "metadata": {
    "scrolled": true
   },
   "outputs": [
    {
     "data": {
      "text/html": [
       "<style>\n",
       ".list-inline {list-style: none; margin:0; padding: 0}\n",
       ".list-inline>li {display: inline-block}\n",
       ".list-inline>li:not(:last-child)::after {content: \"\\00b7\"; padding: 0 .5ex}\n",
       "</style>\n",
       "<ol class=list-inline><li>24.8804728241421</li><li>23.4184966611813</li><li>21.6587314969167</li><li>22.7109534893799</li><li>23.2696062187666</li><li>20.3355874328781</li><li>23.1750705286063</li><li>21.7531828515976</li><li>21.4617197682091</li><li>26.4179946126807</li><li>20.6970382776461</li><li>26.4577419076101</li><li>19.9542655872349</li><li>22.4168347042736</li><li>20.9734081065754</li><li>21.1134338295868</li><li>18.4021962431254</li><li>20.8011263014725</li><li>19.5103626088552</li><li>21.4327040622917</li><li>25.2573504380067</li><li>25.0661945177086</li><li>19.4117602809118</li><li>19.5223279021276</li><li>21.3101166437392</li><li>21.9773748052693</li><li>20.9576199965709</li><li>21.9874116575613</li><li>22.4668372323067</li><li>21.5873749683619</li></ol>\n"
      ],
      "text/latex": [
       "\\begin{enumerate*}\n",
       "\\item 24.8804728241421\n",
       "\\item 23.4184966611813\n",
       "\\item 21.6587314969167\n",
       "\\item 22.7109534893799\n",
       "\\item 23.2696062187666\n",
       "\\item 20.3355874328781\n",
       "\\item 23.1750705286063\n",
       "\\item 21.7531828515976\n",
       "\\item 21.4617197682091\n",
       "\\item 26.4179946126807\n",
       "\\item 20.6970382776461\n",
       "\\item 26.4577419076101\n",
       "\\item 19.9542655872349\n",
       "\\item 22.4168347042736\n",
       "\\item 20.9734081065754\n",
       "\\item 21.1134338295868\n",
       "\\item 18.4021962431254\n",
       "\\item 20.8011263014725\n",
       "\\item 19.5103626088552\n",
       "\\item 21.4327040622917\n",
       "\\item 25.2573504380067\n",
       "\\item 25.0661945177086\n",
       "\\item 19.4117602809118\n",
       "\\item 19.5223279021276\n",
       "\\item 21.3101166437392\n",
       "\\item 21.9773748052693\n",
       "\\item 20.9576199965709\n",
       "\\item 21.9874116575613\n",
       "\\item 22.4668372323067\n",
       "\\item 21.5873749683619\n",
       "\\end{enumerate*}\n"
      ],
      "text/markdown": [
       "1. 24.8804728241421\n",
       "2. 23.4184966611813\n",
       "3. 21.6587314969167\n",
       "4. 22.7109534893799\n",
       "5. 23.2696062187666\n",
       "6. 20.3355874328781\n",
       "7. 23.1750705286063\n",
       "8. 21.7531828515976\n",
       "9. 21.4617197682091\n",
       "10. 26.4179946126807\n",
       "11. 20.6970382776461\n",
       "12. 26.4577419076101\n",
       "13. 19.9542655872349\n",
       "14. 22.4168347042736\n",
       "15. 20.9734081065754\n",
       "16. 21.1134338295868\n",
       "17. 18.4021962431254\n",
       "18. 20.8011263014725\n",
       "19. 19.5103626088552\n",
       "20. 21.4327040622917\n",
       "21. 25.2573504380067\n",
       "22. 25.0661945177086\n",
       "23. 19.4117602809118\n",
       "24. 19.5223279021276\n",
       "25. 21.3101166437392\n",
       "26. 21.9773748052693\n",
       "27. 20.9576199965709\n",
       "28. 21.9874116575613\n",
       "29. 22.4668372323067\n",
       "30. 21.5873749683619\n",
       "\n",
       "\n"
      ],
      "text/plain": [
       " [1] 24.88047 23.41850 21.65873 22.71095 23.26961 20.33559 23.17507 21.75318\n",
       " [9] 21.46172 26.41799 20.69704 26.45774 19.95427 22.41683 20.97341 21.11343\n",
       "[17] 18.40220 20.80113 19.51036 21.43270 25.25735 25.06619 19.41176 19.52233\n",
       "[25] 21.31012 21.97737 20.95762 21.98741 22.46684 21.58737"
      ]
     },
     "metadata": {},
     "output_type": "display_data"
    }
   ],
   "source": [
    "X1 <- rnorm(30, mean=22, sd =sqrt(3)) #This code generates 30 random numbers in a normal distribution with mean = 2 and variance =22 and assigned to X1\n",
    "X1 <- c(X1)\n",
    "X1"
   ]
  },
  {
   "cell_type": "markdown",
   "id": "exposed-sight",
   "metadata": {},
   "source": [
    "2. 30 random numbers with binomial distribution with parameter p (probability of\n",
    "success or having 1) is p=0,6. Insert these numbers in a vector X2."
   ]
  },
  {
   "cell_type": "code",
   "execution_count": 9,
   "id": "clean-fields",
   "metadata": {
    "scrolled": true
   },
   "outputs": [
    {
     "data": {
      "text/html": [
       "<style>\n",
       ".list-inline {list-style: none; margin:0; padding: 0}\n",
       ".list-inline>li {display: inline-block}\n",
       ".list-inline>li:not(:last-child)::after {content: \"\\00b7\"; padding: 0 .5ex}\n",
       "</style>\n",
       "<ol class=list-inline><li>1</li><li>1</li><li>1</li><li>1</li><li>1</li><li>0</li><li>0</li><li>0</li><li>0</li><li>1</li><li>1</li><li>0</li><li>0</li><li>1</li><li>0</li><li>0</li><li>1</li><li>1</li><li>1</li><li>0</li><li>1</li><li>0</li><li>0</li><li>1</li><li>0</li><li>1</li><li>1</li><li>1</li><li>1</li><li>0</li></ol>\n"
      ],
      "text/latex": [
       "\\begin{enumerate*}\n",
       "\\item 1\n",
       "\\item 1\n",
       "\\item 1\n",
       "\\item 1\n",
       "\\item 1\n",
       "\\item 0\n",
       "\\item 0\n",
       "\\item 0\n",
       "\\item 0\n",
       "\\item 1\n",
       "\\item 1\n",
       "\\item 0\n",
       "\\item 0\n",
       "\\item 1\n",
       "\\item 0\n",
       "\\item 0\n",
       "\\item 1\n",
       "\\item 1\n",
       "\\item 1\n",
       "\\item 0\n",
       "\\item 1\n",
       "\\item 0\n",
       "\\item 0\n",
       "\\item 1\n",
       "\\item 0\n",
       "\\item 1\n",
       "\\item 1\n",
       "\\item 1\n",
       "\\item 1\n",
       "\\item 0\n",
       "\\end{enumerate*}\n"
      ],
      "text/markdown": [
       "1. 1\n",
       "2. 1\n",
       "3. 1\n",
       "4. 1\n",
       "5. 1\n",
       "6. 0\n",
       "7. 0\n",
       "8. 0\n",
       "9. 0\n",
       "10. 1\n",
       "11. 1\n",
       "12. 0\n",
       "13. 0\n",
       "14. 1\n",
       "15. 0\n",
       "16. 0\n",
       "17. 1\n",
       "18. 1\n",
       "19. 1\n",
       "20. 0\n",
       "21. 1\n",
       "22. 0\n",
       "23. 0\n",
       "24. 1\n",
       "25. 0\n",
       "26. 1\n",
       "27. 1\n",
       "28. 1\n",
       "29. 1\n",
       "30. 0\n",
       "\n",
       "\n"
      ],
      "text/plain": [
       " [1] 1 1 1 1 1 0 0 0 0 1 1 0 0 1 0 0 1 1 1 0 1 0 0 1 0 1 1 1 1 0"
      ]
     },
     "metadata": {},
     "output_type": "display_data"
    }
   ],
   "source": [
    "X2 <- rbinom(30,1,0.6) #binomial distribution with parameter \n",
    "X2 <- c(X2)\n",
    "X2"
   ]
  },
  {
   "cell_type": "markdown",
   "id": "considerable-heavy",
   "metadata": {},
   "source": [
    "3. 30 random numbers with normal distribution with parameter (mean=20000 and\n",
    "variance=1000). Insert these numbers in a vector Y."
   ]
  },
  {
   "cell_type": "code",
   "execution_count": 11,
   "id": "immediate-washington",
   "metadata": {
    "scrolled": true
   },
   "outputs": [
    {
     "data": {
      "text/html": [
       "<style>\n",
       ".list-inline {list-style: none; margin:0; padding: 0}\n",
       ".list-inline>li {display: inline-block}\n",
       ".list-inline>li:not(:last-child)::after {content: \"\\00b7\"; padding: 0 .5ex}\n",
       "</style>\n",
       "<ol class=list-inline><li>19952.0323501514</li><li>19972.4397102723</li><li>20035.3850359214</li><li>20009.473010338</li><li>20077.0733895411</li><li>20048.4525130097</li><li>20008.8452207748</li><li>20045.211457095</li><li>19971.572107286</li><li>19994.3723875274</li><li>20044.4241327315</li><li>20001.4131331643</li><li>20032.902944363</li><li>20008.6540405559</li><li>19996.6934252841</li><li>20039.898121178</li><li>19997.2259369548</li><li>19978.5266650266</li><li>19958.9138816803</li><li>19984.5830440253</li><li>19994.07756432</li><li>20005.1799088336</li><li>20016.7157758823</li><li>19954.3136988628</li><li>20049.6934815825</li><li>19993.0532203527</li><li>19968.5350245983</li><li>20041.6802359916</li><li>19982.8634726347</li><li>20042.5872699531</li></ol>\n"
      ],
      "text/latex": [
       "\\begin{enumerate*}\n",
       "\\item 19952.0323501514\n",
       "\\item 19972.4397102723\n",
       "\\item 20035.3850359214\n",
       "\\item 20009.473010338\n",
       "\\item 20077.0733895411\n",
       "\\item 20048.4525130097\n",
       "\\item 20008.8452207748\n",
       "\\item 20045.211457095\n",
       "\\item 19971.572107286\n",
       "\\item 19994.3723875274\n",
       "\\item 20044.4241327315\n",
       "\\item 20001.4131331643\n",
       "\\item 20032.902944363\n",
       "\\item 20008.6540405559\n",
       "\\item 19996.6934252841\n",
       "\\item 20039.898121178\n",
       "\\item 19997.2259369548\n",
       "\\item 19978.5266650266\n",
       "\\item 19958.9138816803\n",
       "\\item 19984.5830440253\n",
       "\\item 19994.07756432\n",
       "\\item 20005.1799088336\n",
       "\\item 20016.7157758823\n",
       "\\item 19954.3136988628\n",
       "\\item 20049.6934815825\n",
       "\\item 19993.0532203527\n",
       "\\item 19968.5350245983\n",
       "\\item 20041.6802359916\n",
       "\\item 19982.8634726347\n",
       "\\item 20042.5872699531\n",
       "\\end{enumerate*}\n"
      ],
      "text/markdown": [
       "1. 19952.0323501514\n",
       "2. 19972.4397102723\n",
       "3. 20035.3850359214\n",
       "4. 20009.473010338\n",
       "5. 20077.0733895411\n",
       "6. 20048.4525130097\n",
       "7. 20008.8452207748\n",
       "8. 20045.211457095\n",
       "9. 19971.572107286\n",
       "10. 19994.3723875274\n",
       "11. 20044.4241327315\n",
       "12. 20001.4131331643\n",
       "13. 20032.902944363\n",
       "14. 20008.6540405559\n",
       "15. 19996.6934252841\n",
       "16. 20039.898121178\n",
       "17. 19997.2259369548\n",
       "18. 19978.5266650266\n",
       "19. 19958.9138816803\n",
       "20. 19984.5830440253\n",
       "21. 19994.07756432\n",
       "22. 20005.1799088336\n",
       "23. 20016.7157758823\n",
       "24. 19954.3136988628\n",
       "25. 20049.6934815825\n",
       "26. 19993.0532203527\n",
       "27. 19968.5350245983\n",
       "28. 20041.6802359916\n",
       "29. 19982.8634726347\n",
       "30. 20042.5872699531\n",
       "\n",
       "\n"
      ],
      "text/plain": [
       " [1] 19952.03 19972.44 20035.39 20009.47 20077.07 20048.45 20008.85 20045.21\n",
       " [9] 19971.57 19994.37 20044.42 20001.41 20032.90 20008.65 19996.69 20039.90\n",
       "[17] 19997.23 19978.53 19958.91 19984.58 19994.08 20005.18 20016.72 19954.31\n",
       "[25] 20049.69 19993.05 19968.54 20041.68 19982.86 20042.59"
      ]
     },
     "metadata": {},
     "output_type": "display_data"
    }
   ],
   "source": [
    "Y <- rnorm(30, mean=20000, sd=sqrt(1000)) #30 random numbers with normal distribution with parameter\n",
    "Y <- c(Y)\n",
    "Y"
   ]
  },
  {
   "cell_type": "markdown",
   "id": "hundred-respect",
   "metadata": {},
   "source": [
    "4. Creating data frame called mydata using Y, X1, X2 "
   ]
  },
  {
   "cell_type": "code",
   "execution_count": 12,
   "id": "polar-learning",
   "metadata": {},
   "outputs": [
    {
     "data": {
      "text/html": [
       "<table>\n",
       "<caption>A data.frame: 30 × 3</caption>\n",
       "<thead>\n",
       "\t<tr><th scope=col>Y</th><th scope=col>X1</th><th scope=col>X2</th></tr>\n",
       "\t<tr><th scope=col>&lt;dbl&gt;</th><th scope=col>&lt;dbl&gt;</th><th scope=col>&lt;int&gt;</th></tr>\n",
       "</thead>\n",
       "<tbody>\n",
       "\t<tr><td>19952.03</td><td>24.88047</td><td>1</td></tr>\n",
       "\t<tr><td>19972.44</td><td>23.41850</td><td>1</td></tr>\n",
       "\t<tr><td>20035.39</td><td>21.65873</td><td>1</td></tr>\n",
       "\t<tr><td>20009.47</td><td>22.71095</td><td>1</td></tr>\n",
       "\t<tr><td>20077.07</td><td>23.26961</td><td>1</td></tr>\n",
       "\t<tr><td>20048.45</td><td>20.33559</td><td>0</td></tr>\n",
       "\t<tr><td>20008.85</td><td>23.17507</td><td>0</td></tr>\n",
       "\t<tr><td>20045.21</td><td>21.75318</td><td>0</td></tr>\n",
       "\t<tr><td>19971.57</td><td>21.46172</td><td>0</td></tr>\n",
       "\t<tr><td>19994.37</td><td>26.41799</td><td>1</td></tr>\n",
       "\t<tr><td>20044.42</td><td>20.69704</td><td>1</td></tr>\n",
       "\t<tr><td>20001.41</td><td>26.45774</td><td>0</td></tr>\n",
       "\t<tr><td>20032.90</td><td>19.95427</td><td>0</td></tr>\n",
       "\t<tr><td>20008.65</td><td>22.41683</td><td>1</td></tr>\n",
       "\t<tr><td>19996.69</td><td>20.97341</td><td>0</td></tr>\n",
       "\t<tr><td>20039.90</td><td>21.11343</td><td>0</td></tr>\n",
       "\t<tr><td>19997.23</td><td>18.40220</td><td>1</td></tr>\n",
       "\t<tr><td>19978.53</td><td>20.80113</td><td>1</td></tr>\n",
       "\t<tr><td>19958.91</td><td>19.51036</td><td>1</td></tr>\n",
       "\t<tr><td>19984.58</td><td>21.43270</td><td>0</td></tr>\n",
       "\t<tr><td>19994.08</td><td>25.25735</td><td>1</td></tr>\n",
       "\t<tr><td>20005.18</td><td>25.06619</td><td>0</td></tr>\n",
       "\t<tr><td>20016.72</td><td>19.41176</td><td>0</td></tr>\n",
       "\t<tr><td>19954.31</td><td>19.52233</td><td>1</td></tr>\n",
       "\t<tr><td>20049.69</td><td>21.31012</td><td>0</td></tr>\n",
       "\t<tr><td>19993.05</td><td>21.97737</td><td>1</td></tr>\n",
       "\t<tr><td>19968.54</td><td>20.95762</td><td>1</td></tr>\n",
       "\t<tr><td>20041.68</td><td>21.98741</td><td>1</td></tr>\n",
       "\t<tr><td>19982.86</td><td>22.46684</td><td>1</td></tr>\n",
       "\t<tr><td>20042.59</td><td>21.58737</td><td>0</td></tr>\n",
       "</tbody>\n",
       "</table>\n"
      ],
      "text/latex": [
       "A data.frame: 30 × 3\n",
       "\\begin{tabular}{lll}\n",
       " Y & X1 & X2\\\\\n",
       " <dbl> & <dbl> & <int>\\\\\n",
       "\\hline\n",
       "\t 19952.03 & 24.88047 & 1\\\\\n",
       "\t 19972.44 & 23.41850 & 1\\\\\n",
       "\t 20035.39 & 21.65873 & 1\\\\\n",
       "\t 20009.47 & 22.71095 & 1\\\\\n",
       "\t 20077.07 & 23.26961 & 1\\\\\n",
       "\t 20048.45 & 20.33559 & 0\\\\\n",
       "\t 20008.85 & 23.17507 & 0\\\\\n",
       "\t 20045.21 & 21.75318 & 0\\\\\n",
       "\t 19971.57 & 21.46172 & 0\\\\\n",
       "\t 19994.37 & 26.41799 & 1\\\\\n",
       "\t 20044.42 & 20.69704 & 1\\\\\n",
       "\t 20001.41 & 26.45774 & 0\\\\\n",
       "\t 20032.90 & 19.95427 & 0\\\\\n",
       "\t 20008.65 & 22.41683 & 1\\\\\n",
       "\t 19996.69 & 20.97341 & 0\\\\\n",
       "\t 20039.90 & 21.11343 & 0\\\\\n",
       "\t 19997.23 & 18.40220 & 1\\\\\n",
       "\t 19978.53 & 20.80113 & 1\\\\\n",
       "\t 19958.91 & 19.51036 & 1\\\\\n",
       "\t 19984.58 & 21.43270 & 0\\\\\n",
       "\t 19994.08 & 25.25735 & 1\\\\\n",
       "\t 20005.18 & 25.06619 & 0\\\\\n",
       "\t 20016.72 & 19.41176 & 0\\\\\n",
       "\t 19954.31 & 19.52233 & 1\\\\\n",
       "\t 20049.69 & 21.31012 & 0\\\\\n",
       "\t 19993.05 & 21.97737 & 1\\\\\n",
       "\t 19968.54 & 20.95762 & 1\\\\\n",
       "\t 20041.68 & 21.98741 & 1\\\\\n",
       "\t 19982.86 & 22.46684 & 1\\\\\n",
       "\t 20042.59 & 21.58737 & 0\\\\\n",
       "\\end{tabular}\n"
      ],
      "text/markdown": [
       "\n",
       "A data.frame: 30 × 3\n",
       "\n",
       "| Y &lt;dbl&gt; | X1 &lt;dbl&gt; | X2 &lt;int&gt; |\n",
       "|---|---|---|\n",
       "| 19952.03 | 24.88047 | 1 |\n",
       "| 19972.44 | 23.41850 | 1 |\n",
       "| 20035.39 | 21.65873 | 1 |\n",
       "| 20009.47 | 22.71095 | 1 |\n",
       "| 20077.07 | 23.26961 | 1 |\n",
       "| 20048.45 | 20.33559 | 0 |\n",
       "| 20008.85 | 23.17507 | 0 |\n",
       "| 20045.21 | 21.75318 | 0 |\n",
       "| 19971.57 | 21.46172 | 0 |\n",
       "| 19994.37 | 26.41799 | 1 |\n",
       "| 20044.42 | 20.69704 | 1 |\n",
       "| 20001.41 | 26.45774 | 0 |\n",
       "| 20032.90 | 19.95427 | 0 |\n",
       "| 20008.65 | 22.41683 | 1 |\n",
       "| 19996.69 | 20.97341 | 0 |\n",
       "| 20039.90 | 21.11343 | 0 |\n",
       "| 19997.23 | 18.40220 | 1 |\n",
       "| 19978.53 | 20.80113 | 1 |\n",
       "| 19958.91 | 19.51036 | 1 |\n",
       "| 19984.58 | 21.43270 | 0 |\n",
       "| 19994.08 | 25.25735 | 1 |\n",
       "| 20005.18 | 25.06619 | 0 |\n",
       "| 20016.72 | 19.41176 | 0 |\n",
       "| 19954.31 | 19.52233 | 1 |\n",
       "| 20049.69 | 21.31012 | 0 |\n",
       "| 19993.05 | 21.97737 | 1 |\n",
       "| 19968.54 | 20.95762 | 1 |\n",
       "| 20041.68 | 21.98741 | 1 |\n",
       "| 19982.86 | 22.46684 | 1 |\n",
       "| 20042.59 | 21.58737 | 0 |\n",
       "\n"
      ],
      "text/plain": [
       "   Y        X1       X2\n",
       "1  19952.03 24.88047 1 \n",
       "2  19972.44 23.41850 1 \n",
       "3  20035.39 21.65873 1 \n",
       "4  20009.47 22.71095 1 \n",
       "5  20077.07 23.26961 1 \n",
       "6  20048.45 20.33559 0 \n",
       "7  20008.85 23.17507 0 \n",
       "8  20045.21 21.75318 0 \n",
       "9  19971.57 21.46172 0 \n",
       "10 19994.37 26.41799 1 \n",
       "11 20044.42 20.69704 1 \n",
       "12 20001.41 26.45774 0 \n",
       "13 20032.90 19.95427 0 \n",
       "14 20008.65 22.41683 1 \n",
       "15 19996.69 20.97341 0 \n",
       "16 20039.90 21.11343 0 \n",
       "17 19997.23 18.40220 1 \n",
       "18 19978.53 20.80113 1 \n",
       "19 19958.91 19.51036 1 \n",
       "20 19984.58 21.43270 0 \n",
       "21 19994.08 25.25735 1 \n",
       "22 20005.18 25.06619 0 \n",
       "23 20016.72 19.41176 0 \n",
       "24 19954.31 19.52233 1 \n",
       "25 20049.69 21.31012 0 \n",
       "26 19993.05 21.97737 1 \n",
       "27 19968.54 20.95762 1 \n",
       "28 20041.68 21.98741 1 \n",
       "29 19982.86 22.46684 1 \n",
       "30 20042.59 21.58737 0 "
      ]
     },
     "metadata": {},
     "output_type": "display_data"
    }
   ],
   "source": [
    "mydata <- data.frame(Y,X1,X2) #Creating data frame called mydata using Y, X1, X2\n",
    "mydata"
   ]
  },
  {
   "cell_type": "code",
   "execution_count": 13,
   "id": "through-monroe",
   "metadata": {},
   "outputs": [
    {
     "name": "stdout",
     "output_type": "stream",
     "text": [
      "[1] 20006.89\n",
      "[1] 22.01284\n",
      "[1] \"20003.296520999 is median for Y\"\n",
      "[1] \"21.6230532326393 is median for X1\"\n"
     ]
    }
   ],
   "source": [
    "mean.Y = mean(Y) # calculate mean for Y\n",
    "mean.X1 = mean(X1) # calculate mean for X1\n",
    "print(mean.Y) #prints out mean for Y\n",
    "print(mean.X1) #prints out mean for X1\n",
    "\n",
    "\n",
    "median.Y <- median(Y) # Find the median Y\n",
    "print(paste(median.Y,\"is median for Y\"))\n",
    "median.X1 <- median(X1) # Find the median Y\n",
    "print(paste(median.X1,\"is median for X1\"))"
   ]
  },
  {
   "cell_type": "markdown",
   "id": "bored-fundamental",
   "metadata": {},
   "source": [
    "6. Boxplot for the variable Y"
   ]
  },
  {
   "cell_type": "code",
   "execution_count": 14,
   "id": "numerical-morning",
   "metadata": {
    "scrolled": true
   },
   "outputs": [
    {
     "data": {
      "image/png": "[encoded data removed]",
      "text/plain": [
       "plot without title"
      ]
     },
     "metadata": {
      "image/png": {
       "height": 420,
       "width": 420
      }
     },
     "output_type": "display_data"
    }
   ],
   "source": [
    "boxplot(Y) #Boxplot for the variable Y"
   ]
  },
  {
   "cell_type": "markdown",
   "id": "vulnerable-parks",
   "metadata": {},
   "source": [
    "7. Histogram for the variable Y."
   ]
  },
  {
   "cell_type": "code",
   "execution_count": 15,
   "id": "oriental-disco",
   "metadata": {
    "scrolled": true
   },
   "outputs": [
    {
     "data": {
      "image/png": "[encoded data removed]",
      "text/plain": [
       "Plot with title “Histogram of Y”"
      ]
     },
     "metadata": {
      "image/png": {
       "height": 420,
       "width": 420
      }
     },
     "output_type": "display_data"
    }
   ],
   "source": [
    "hist(Y,xlab = \"Y vector values\",col = \"yellow\",border = \"blue\") #Histogram for the variable Y."
   ]
  },
  {
   "cell_type": "markdown",
   "id": "mysterious-novel",
   "metadata": {},
   "source": [
    "8. Line plot between Y and X1."
   ]
  },
  {
   "cell_type": "code",
   "execution_count": 16,
   "id": "vanilla-awareness",
   "metadata": {},
   "outputs": [
    {
     "data": {
      "image/png": "[encoded data removed]",
      "text/plain": [
       "Plot with title “Line plot between Y and X1”"
      ]
     },
     "metadata": {
      "image/png": {
       "height": 420,
       "width": 420
      }
     },
     "output_type": "display_data"
    }
   ],
   "source": [
    "plot(Y, X1, type = 'l',xlab=\"Y vector\", ylab=\"X1 vector\", main=\"Line plot between Y and X1\") #Line plot between Y and X1."
   ]
  }
 ],
 "metadata": {
  "kernelspec": {
   "display_name": "R",
   "language": "R",
   "name": "ir"
  },
  "language_info": {
   "codemirror_mode": "r",
   "file_extension": ".r",
   "mimetype": "text/x-r-source",
   "name": "R",
   "pygments_lexer": "r",
   "version": "4.1.0"
  }
 },
 "nbformat": 4,
 "nbformat_minor": 5
}
